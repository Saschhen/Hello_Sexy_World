{
 "cells": [
  {
   "cell_type": "markdown",
   "metadata": {},
   "source": [
    "# Sexy_World_3.\n",
    "1. Что это и зачем?\n",
    "2. Строчки и Списки\n",
    "3. Кортежи\n",
    "4. Оператор индекса: работа с символами строки\n",
    "5. Практика"
   ]
  },
  {
   "cell_type": "markdown",
   "metadata": {},
   "source": [
    "# 1. Что это и зачем?"
   ]
  },
  {
   "cell_type": "markdown",
   "metadata": {},
   "source": [
    "**Hello Sexy World!** В первых ноутбуках мы использовали строки для представления слов или фраз, которые мы хотели напечатать. Наше определение было простым: строка - это несколько символов внутри кавычек. Давайте исследовать строки более подробно!\n",
    "\n",
    "Кроме того, мы исследуем списки и кортежи, которые очень похожи на строки, но могут содержать различные типы. Ну и куда же без практической задачки:) **Here we go!**"
   ]
  },
  {
   "cell_type": "markdown",
   "metadata": {},
   "source": [
    "\n",
    "\n",
    "# 1. Строчки и Списки"
   ]
  },
  {
   "cell_type": "markdown",
   "metadata": {},
   "source": [
    "Со строками мы уже знакомы. **Строки (Strings)** можно назвать последовательным набором символов. Это означает, что отдельные символы, составляющие строку, расположены в определенном порядке слева направо.\n",
    "\n",
    "Строка, которая не содержит символов, часто называемая пустой строкой, все еще считается строкой. Это просто последовательность нулевых символов - пустота, заключенная в кавычки.\n"
   ]
  },
  {
   "cell_type": "code",
   "execution_count": 1,
   "metadata": {},
   "outputs": [
    {
     "name": "stdout",
     "output_type": "stream",
     "text": [
      " \n"
     ]
    }
   ],
   "source": [
    "a = 'Зовите меня \"Гуру Python\"'\n",
    "print(\" \")"
   ]
  },
  {
   "cell_type": "markdown",
   "metadata": {},
   "source": [
    "**Список (List)** - это последовательная коллекция значений данных Python, где каждое значение имеет свой **индекс** или **порядковый номер**. \n",
    "\n",
    "Значения, составляющие список, называются его **элементами**. \n",
    "\n",
    "Самый простой способ создать список - заключить элементы в квадратные скобки:"
   ]
  },
  {
   "cell_type": "code",
   "execution_count": 2,
   "metadata": {},
   "outputs": [
    {
     "data": {
      "text/plain": [
       "['spam', 'bungee', 'swallow']"
      ]
     },
     "execution_count": 2,
     "metadata": {},
     "output_type": "execute_result"
    }
   ],
   "source": [
    "[10, 20, 30, 40] #список из четырех целых чисел\n",
    "[\"spam\", \"bungee\", \"swallow\"] # список трех строк"
   ]
  },
  {
   "cell_type": "markdown",
   "metadata": {},
   "source": [
    "Однока элементы списка не обязательно должны быть одного типа. Следующий список содержит строку, число с плавающей запятой, целое число и другой список:"
   ]
  },
  {
   "cell_type": "code",
   "execution_count": 3,
   "metadata": {},
   "outputs": [
    {
     "data": {
      "text/plain": [
       "['hello', 2.0, 5, [10, 20]]"
      ]
     },
     "execution_count": 3,
     "metadata": {},
     "output_type": "execute_result"
    }
   ],
   "source": [
    "[\"hello\", 2.0, 5, [10, 20]]"
   ]
  },
  {
   "cell_type": "markdown",
   "metadata": {},
   "source": [
    "# 3. Кортежи"
   ]
  },
  {
   "cell_type": "markdown",
   "metadata": {},
   "source": [
    "**Кортеж (Tuple)**, как и список, представляет собой последовательность элементов любого типа. Печатное представление кортежа представляет собой последовательность значений через запятую, заключенную в скобки.\n",
    "\n",
    "Один из способов создания кортежа - написать выражение, заключенное в скобки, которое состоит из нескольких других выражений, разделенных запятыми:\n"
   ]
  },
  {
   "cell_type": "code",
   "execution_count": 29,
   "metadata": {},
   "outputs": [],
   "source": [
    "names = (\"Julia\", \"Roberts\", 1967, \"Duplicity\", 2009, \"Actress\", \"Atlanta, Georgia\")"
   ]
  },
  {
   "cell_type": "markdown",
   "metadata": {},
   "source": [
    "Можно создать пустой кортеж с помощью встроенной функции tuple() или - с помощью этой же функции - сделать из строчки кортеж:"
   ]
  },
  {
   "cell_type": "code",
   "execution_count": 31,
   "metadata": {},
   "outputs": [
    {
     "name": "stdout",
     "output_type": "stream",
     "text": [
      "()\n"
     ]
    }
   ],
   "source": [
    "birth = tuple()\n",
    "print(birth)"
   ]
  },
  {
   "cell_type": "code",
   "execution_count": 32,
   "metadata": {},
   "outputs": [
    {
     "data": {
      "text/plain": [
       "('I',\n",
       " ' ',\n",
       " 'w',\n",
       " 'a',\n",
       " 's',\n",
       " ' ',\n",
       " 'b',\n",
       " 'o',\n",
       " 'r',\n",
       " 'n',\n",
       " ' ',\n",
       " 'i',\n",
       " 'n',\n",
       " ' ',\n",
       " '1',\n",
       " '9',\n",
       " '9',\n",
       " '5')"
      ]
     },
     "execution_count": 32,
     "metadata": {},
     "output_type": "execute_result"
    }
   ],
   "source": [
    "tuple('I was born in 1995')"
   ]
  },
  {
   "cell_type": "markdown",
   "metadata": {},
   "source": [
    "Основное различие между списками и кортежами заключается в том, что кортеж является **неизменным**, то есть его содержимое **не может быть изменено после создания**.\n",
    "\n",
    "Чтобы создать кортеж с одним элементом (но вы, вероятно, вряд ли будете делать это слишком часто), мы должны включить запятую после элемента, потому что без последней запятой Python обрабатывает (5) ниже как целое число в скобках:"
   ]
  },
  {
   "cell_type": "code",
   "execution_count": 5,
   "metadata": {},
   "outputs": [
    {
     "name": "stdout",
     "output_type": "stream",
     "text": [
      "<class 'tuple'>\n",
      "<class 'int'>\n"
     ]
    }
   ],
   "source": [
    "t = (5,)\n",
    "print(type(t))\n",
    "\n",
    "x = (5)\n",
    "print(type(x))"
   ]
  },
  {
   "cell_type": "markdown",
   "metadata": {},
   "source": [
    "# 4. Оператор индекса: работа с символами строки"
   ]
  },
  {
   "cell_type": "markdown",
   "metadata": {},
   "source": [
    "Элементы списка, так же, как и символы строки, имеют свой номер (индекс). Нумерация индексов начинается **с нуля!**\n",
    "\n",
    "Приведу вам хороший пример с надписью \"Luther College\":"
   ]
  },
  {
   "cell_type": "code",
   "execution_count": 12,
   "metadata": {},
   "outputs": [
    {
     "data": {
      "image/png": "[encoded data removed]",
      "text/plain": [
       "<Figure size 432x288 with 1 Axes>"
      ]
     },
     "metadata": {},
     "output_type": "display_data"
    }
   ],
   "source": [
    "import matplotlib.pyplot as plt\n",
    "import matplotlib.image as mpimg\n",
    "image = mpimg.imread(\"example.png\")\n",
    "plt.imshow(image)\n",
    "plt.show()"
   ]
  },
  {
   "cell_type": "markdown",
   "metadata": {},
   "source": [
    "Позиции можно именовать слева направо, начиная с нуля. А можно и справа налево с использованием отрицательных чисел, где -1 - самый правый индекс. Обратите внимание, что символ с индексом 6 (или -8) в нашем примере является пустым символом:"
   ]
  },
  {
   "cell_type": "code",
   "execution_count": 14,
   "metadata": {},
   "outputs": [
    {
     "data": {
      "text/plain": [
       "' '"
      ]
     },
     "execution_count": 14,
     "metadata": {},
     "output_type": "execute_result"
    }
   ],
   "source": [
    "\"Luther College\"[0]\n",
    "\"Luther College\"[-8]"
   ]
  },
  {
   "cell_type": "code",
   "execution_count": 15,
   "metadata": {},
   "outputs": [
    {
     "name": "stdout",
     "output_type": "stream",
     "text": [
      "t\n",
      "e\n"
     ]
    }
   ],
   "source": [
    "school = \"Luther College\"\n",
    "m = school[2]\n",
    "print(m)\n",
    "\n",
    "lastchar = school[-1]\n",
    "print(lastchar)"
   ]
  },
  {
   "cell_type": "markdown",
   "metadata": {},
   "source": [
    "Обратите внимание, что индексирование возвращает строку, так как Python не имеет специального типа для одного символа. Это просто строка длиной в 1 символ."
   ]
  },
  {
   "cell_type": "markdown",
   "metadata": {},
   "source": [
    "Синтаксис для доступа к элементам списка или кортежа такой же, как и для доступа к символам строки. Мы используем оператор индекса ([] - не путать с пустым списком). \n",
    "\n",
    "Выражение в скобках указывает индекс. Еще раз скажу, что индексы начинаются с 0. Любое целочисленное выражение может использоваться в качестве индекса, и, как и в случае со строками, отрицательные значения индекса будут размещать элементы справа, а не слева.\n",
    "\n",
    "Попробуйте предсказать, что будет напечатано с помощью следующего кода, а затем запустите его, чтобы проверить свой прогноз. (На самом деле, это хорошая идея - всегда делать это с примерами кода. Вы узнаете гораздо больше, если заставите себя сделать прогноз, прежде чем увидите результат)"
   ]
  },
  {
   "cell_type": "code",
   "execution_count": 16,
   "metadata": {},
   "outputs": [
    {
     "name": "stdout",
     "output_type": "stream",
     "text": [
      "87\n",
      "123\n",
      "8398\n"
     ]
    }
   ],
   "source": [
    "numbers = [17, 123, 87, 34, 66, 8398, 44]\n",
    "print(numbers[2])\n",
    "print(numbers[9-8])\n",
    "print(numbers[-2])"
   ]
  },
  {
   "cell_type": "markdown",
   "metadata": {},
   "source": [
    "Для списка можно получить срез, объединить несколько списков и так далее:"
   ]
  },
  {
   "cell_type": "code",
   "execution_count": 7,
   "metadata": {},
   "outputs": [
    {
     "data": {
      "text/plain": [
       "['drums', 100]"
      ]
     },
     "execution_count": 7,
     "metadata": {},
     "output_type": "execute_result"
    }
   ],
   "source": [
    "lst = ['spam', 'drums', 100, 1234]\n",
    "\n",
    "lst[1:3]"
   ]
  },
  {
   "cell_type": "markdown",
   "metadata": {},
   "source": [
    "Можно менять как отдельные элементы списка, так и диапазон:"
   ]
  },
  {
   "cell_type": "code",
   "execution_count": 8,
   "metadata": {},
   "outputs": [
    {
     "data": {
      "text/plain": [
       "[1, 2, 100, 'piano']"
      ]
     },
     "execution_count": 8,
     "metadata": {},
     "output_type": "execute_result"
    }
   ],
   "source": [
    "lst[3] = 'piano'\n",
    "lst[0:2] = [1,2]\n",
    "lst"
   ]
  },
  {
   "cell_type": "markdown",
   "metadata": {},
   "source": [
    "Можно делать целые вставки:"
   ]
  },
  {
   "cell_type": "code",
   "execution_count": 9,
   "metadata": {},
   "outputs": [
    {
     "data": {
      "text/plain": [
       "[1, 'guitar', 'microphone', 2, 100, 'piano']"
      ]
     },
     "execution_count": 9,
     "metadata": {},
     "output_type": "execute_result"
    }
   ],
   "source": [
    "lst[1:1] = ['guitar','microphone']\n",
    "lst"
   ]
  },
  {
   "cell_type": "markdown",
   "metadata": {},
   "source": [
    "И даже сделать выборку из списка с определенной частотой:"
   ]
  },
  {
   "cell_type": "code",
   "execution_count": 10,
   "metadata": {},
   "outputs": [
    {
     "data": {
      "text/plain": [
       "[1, 5, 9]"
      ]
     },
     "execution_count": 10,
     "metadata": {},
     "output_type": "execute_result"
    }
   ],
   "source": [
    "numbers = [1,2,3,4,5,6,7,8,9,0]\n",
    "numbers[::4]"
   ]
  },
  {
   "cell_type": "markdown",
   "metadata": {},
   "source": [
    "Наконец, список можно создать самому - даже поместить в него любые элемены, при помощи функции **append()**, и удалить - при помощи **remove()**\n",
    "\n",
    "Для создания пустого списка досточно просто присвоить переменной пустые квадратные скобки. Давайте создадим пустой список, затем добавим в него некоторые значения, а потом что-нибуд удалим:"
   ]
  },
  {
   "cell_type": "code",
   "execution_count": 26,
   "metadata": {},
   "outputs": [
    {
     "name": "stdout",
     "output_type": "stream",
     "text": [
      "[5]\n"
     ]
    }
   ],
   "source": [
    "my_list = []\n",
    "\n",
    "my_list.append('data')\n",
    "my_list.append(5)\n",
    "my_list.remove('data')\n",
    "print(my_list)"
   ]
  },
  {
   "cell_type": "markdown",
   "metadata": {},
   "source": [
    "А чтобы узнать длину списка (из скольких элементов он состоит), воспользуйтесь функцией **len()**:"
   ]
  },
  {
   "cell_type": "code",
   "execution_count": 25,
   "metadata": {},
   "outputs": [
    {
     "data": {
      "text/plain": [
       "2"
      ]
     },
     "execution_count": 25,
     "metadata": {},
     "output_type": "execute_result"
    }
   ],
   "source": [
    "len(my_list)"
   ]
  },
  {
   "cell_type": "markdown",
   "metadata": {},
   "source": [
    "# 5. Практика"
   ]
  },
  {
   "cell_type": "markdown",
   "metadata": {},
   "source": [
    "А теперь вы поработайте руками и головой (если, конечно, хотите). "
   ]
  },
  {
   "cell_type": "markdown",
   "metadata": {},
   "source": [
    "### Lists"
   ]
  },
  {
   "cell_type": "markdown",
   "metadata": {},
   "source": [
    "**Задача**\n",
    "\n",
    "Создайте список и поиграйтесь с ним, проверяя себя через функцию print().\n",
    "\n",
    "Выполните следующие команды:\n",
    "\n",
    "**insert**: вставить целое число в позицию.\n",
    "**delete**: удалить первое вхождение целого числа.\n",
    "**append**: вставить целое число в конец списка.\n",
    "**sort**: сортировать список.\n",
    "**pop**: \"вытолкнуть\" последний элемент из списка\n",
    "**reverse**: перевернуть список.\n",
    "\n",
    "Исполните все вышеперечисленные команды (при необходимости, Гугл вам в помощь).\n"
   ]
  },
  {
   "cell_type": "code",
   "execution_count": null,
   "metadata": {},
   "outputs": [],
   "source": [
    "list = []"
   ]
  },
  {
   "cell_type": "code",
   "execution_count": null,
   "metadata": {},
   "outputs": [],
   "source": [
    "def see_you_soon(flag=False):\n",
    "    if (flag):\n",
    "        print('Получилось объемно, но продуктивно. It is never late to learn. See you soon! Your Sasha')\n",
    "    else:\n",
    "        print('Turn the flag True!')\n",
    "              \n",
    "see_you_soon(flag=True)   "
   ]
  }
 ],
 "metadata": {
  "kernelspec": {
   "display_name": "Python 3",
   "language": "python",
   "name": "python3"
  },
  "language_info": {
   "codemirror_mode": {
    "name": "ipython",
    "version": 3
   },
   "file_extension": ".py",
   "mimetype": "text/x-python",
   "name": "python",
   "nbconvert_exporter": "python",
   "pygments_lexer": "ipython3",
   "version": "3.6.5"
  }
 },
 "nbformat": 4,
 "nbformat_minor": 2
}
