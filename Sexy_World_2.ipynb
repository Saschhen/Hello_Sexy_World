{
 "cells": [
  {
   "cell_type": "markdown",
   "metadata": {},
   "source": [
    "# 3. Значения и Типы Данных"
   ]
  },
  {
   "cell_type": "markdown",
   "metadata": {},
   "source": [
    "Значение - одна из фундаментальных вещей, таких как слово или число, которыми манипулирует программа. Некоторые значения, к примеру, равны 5 (результат, когда мы складываем 2 + 3) и \"Hello, Sexy World!\". Эти объекты классифицируются на разные классы или типы данных: 4 - это целое число, а «Hello, Sexy World!» - это строка, называемая так, потому что она содержит последовательность букв. Вы (и интерпретатор Python) можете идентифицировать строки по кавычкам, в которые они заключены.\n",
    "\n",
    "\n",
    "Для выведения числовых значений достаточно обернуть нужное для вывода число (или манипуляцию с числами) в функцию print():"
   ]
  },
  {
   "cell_type": "code",
   "execution_count": 1,
   "metadata": {},
   "outputs": [
    {
     "name": "stdout",
     "output_type": "stream",
     "text": [
      "5\n"
     ]
    }
   ],
   "source": [
    "print(5)"
   ]
  },
  {
   "cell_type": "code",
   "execution_count": 2,
   "metadata": {},
   "outputs": [
    {
     "name": "stdout",
     "output_type": "stream",
     "text": [
      "3.2\n"
     ]
    }
   ],
   "source": [
    "print(3.2)"
   ]
  },
  {
   "cell_type": "code",
   "execution_count": 3,
   "metadata": {},
   "outputs": [
    {
     "name": "stdout",
     "output_type": "stream",
     "text": [
      "8\n"
     ]
    }
   ],
   "source": [
    "print(5+3)"
   ]
  },
  {
   "cell_type": "markdown",
   "metadata": {},
   "source": [
    "Числа с десятичной точкой принадлежат классу 'float', потому что эти числа представлены в формате с плавающей точкой. На этом этапе вы можете рассматривать слова класс и тип взаимозаменяемо. Позже я расскажу, что такое класс на самом деле.\n",
    "\n",
    "Вы также столкнетесь с другими типами объектов, такими как списки и словари. Каждый из них имеет свое специальное представление для указания объекта как литерала в программе и для отображения объекта при его печати. Например, содержимое списка заключено в квадратные скобки [ ]. Но всему свое время."
   ]
  },
  {
   "cell_type": "markdown",
   "metadata": {},
   "source": [
    "Усложним задачу: установим значение пары переменных, как нас учили на уроках алгебры, а затем выведем результаты этих переменных, сложенных вместе:"
   ]
  },
  {
   "cell_type": "code",
   "execution_count": 5,
   "metadata": {},
   "outputs": [
    {
     "data": {
      "text/plain": [
       "3"
      ]
     },
     "execution_count": 5,
     "metadata": {},
     "output_type": "execute_result"
    }
   ],
   "source": [
    "x = 1\n",
    "y = 2\n",
    "x + y"
   ]
  },
  {
   "cell_type": "markdown",
   "metadata": {},
   "source": [
    "Если запустить ячейку с какой-либо переменной, программа напечатает ее значение. Это значит, что Python хранит значения переменных до тех пор, пока мы не изменим ее.\n",
    "\n",
    "Кроме того, если вы измените что-то в предыдущей ячейке, вам придется перезапустить все ячейки ниже, чтобы отрразить изменения. Функция перезапуска и запуска всех функций полезна, поскольку она стирает состояние интерпретатора и перезапускает все ячейки в текущей записной книжке.\n"
   ]
  },
  {
   "cell_type": "code",
   "execution_count": 7,
   "metadata": {},
   "outputs": [
    {
     "data": {
      "text/plain": [
       "1"
      ]
     },
     "execution_count": 7,
     "metadata": {},
     "output_type": "execute_result"
    }
   ],
   "source": [
    "x"
   ]
  },
  {
   "cell_type": "markdown",
   "metadata": {},
   "source": [
    "Python имеет традиционные программные структуры - функции. Можно рефакторить предыдущий кода в изящную функцию.\n",
    "\n",
    "Оператор 'def' указывает на то, что вы пишете функцию:"
   ]
  },
  {
   "cell_type": "code",
   "execution_count": 8,
   "metadata": {},
   "outputs": [
    {
     "data": {
      "text/plain": [
       "3"
      ]
     },
     "execution_count": 8,
     "metadata": {},
     "output_type": "execute_result"
    }
   ],
   "source": [
    "# def + название функции через нижнее подчеркивание + (переменные, с которыми происходят манипуляциии)\n",
    "def add_numbers(x, y):\n",
    "    return x + y\n",
    "\n",
    "# чтобы вывести функцию, достаточно напечатать ее название и задать значение переменным\n",
    "add_numbers(1, 2)"
   ]
  },
  {
   "cell_type": "markdown",
   "metadata": {},
   "source": [
    "# 4. Операторы и Операнды"
   ]
  },
  {
   "cell_type": "markdown",
   "metadata": {},
   "source": [
    "Вы можете создавать сложные выражения из более простых, используя операторы. \n",
    "\n",
    "Операторы - это специальные токены, которые представляют вычисления, такие как сложение, умножение и деление. Значения, над которыми работает оператор, называются операндами.\n",
    "\n",
    "Ниже приведены все допустимые выражения Python, значение которых более или менее ясно:"
   ]
  },
  {
   "cell_type": "code",
   "execution_count": 9,
   "metadata": {},
   "outputs": [
    {
     "name": "stdout",
     "output_type": "stream",
     "text": [
      "12\n"
     ]
    }
   ],
   "source": [
    "20 + 32\n",
    "5 ** 2\n",
    "(5 + 9) * (15 - 7)\n",
    "print(7 + 5)"
   ]
  },
  {
   "cell_type": "markdown",
   "metadata": {},
   "source": [
    "Токены '+', '-' и '*', а также использование скобок для группировки, означают в Python то же, что они значат в математике. \n",
    "\n",
    "Звездочка - это токен для умножения, а '****' - это токен для возведения в степень. Сложение, вычитание, умножение и возведение в степень все делают то, что вы ожидаете.\n",
    "\n",
    "Помните, что если вы хотите увидеть результаты вычислений, программа должна указать это словом print. Поэтому в предыдущей ячейке первые три вычисления происходят, но их результаты не выводятся.\n",
    "\n",
    "В Python 3, который мы будем использовать, оператор деления '/' выдает результат с плавающей запятой, если результат не является целым числом (например, 1/2). Если вы хотите усеченное деление, вы можете использовать оператор '//':"
   ]
  },
  {
   "cell_type": "code",
   "execution_count": 10,
   "metadata": {},
   "outputs": [
    {
     "name": "stdout",
     "output_type": "stream",
     "text": [
      "1.8\n",
      "0.5555555555555556\n",
      "1\n"
     ]
    }
   ],
   "source": [
    "print(9 / 5)\n",
    "print(5 / 9)\n",
    "print(9 // 5)"
   ]
  },
  {
   "cell_type": "markdown",
   "metadata": {},
   "source": [
    "Обратите особое внимание на примеры выше: 9 // 5 усекает, а не округляет, поэтому он выдает значение 1, а не 2.\n",
    "\n",
    "Оператор целочисленного деления '//' также работает с числами с плавающей запятой. Он усекает до ближайшего целого числа, но все равно дает результат с плавающей запятой. Таким образом, 7,0 // 3,0 составляет 2,0.\n"
   ]
  },
  {
   "cell_type": "code",
   "execution_count": 11,
   "metadata": {},
   "outputs": [
    {
     "name": "stdout",
     "output_type": "stream",
     "text": [
      "2.3333333333333335\n",
      "2.0\n"
     ]
    }
   ],
   "source": [
    "print(7.0 / 3.0)\n",
    "print(7.0 // 3.0)"
   ]
  },
  {
   "cell_type": "markdown",
   "metadata": {},
   "source": [
    "Оператор модуля, иногда называемый оператором остатка или целочисленным оператором остатка, работает с целыми числами (и целочисленными выражениями) и возвращает остаток, когда первый операнд делится на второй. В Python оператор модуля является знаком процента (%):"
   ]
  },
  {
   "cell_type": "code",
   "execution_count": 12,
   "metadata": {},
   "outputs": [
    {
     "name": "stdout",
     "output_type": "stream",
     "text": [
      "2\n",
      "1\n"
     ]
    }
   ],
   "source": [
    "print(7 // 3)    # Это оператор целочисленного деления\n",
    "print(7 % 3)     # Это оператор остатка или модуля"
   ]
  },
  {
   "cell_type": "markdown",
   "metadata": {},
   "source": [
    "В приведенном выше примере 7, деленное на 3, равно 2, когда мы используем целочисленное деление, а остаток равен 1.\n",
    "\n",
    "Оператор модуля оказывается на удивление полезным. Например, вы можете проверить, делится ли одно число на другое - если x%y равно нулю, то x делится на y. Кроме того, вы можете извлечь самую правую цифру или цифры из числа. Например, x%10 дает крайнюю правую цифру x (в базе 10). Точно так же x%100 возвращает последние две цифры."
   ]
  },
  {
   "cell_type": "markdown",
   "metadata": {},
   "source": [
    "# 5. Типы Данных"
   ]
  },
  {
   "cell_type": "markdown",
   "metadata": {},
   "source": [
    "Если вы не уверены, к какому классу (типу данных) относится значение, в Python есть функция 'type', которая все вам расскажет:"
   ]
  },
  {
   "cell_type": "code",
   "execution_count": 14,
   "metadata": {},
   "outputs": [
    {
     "name": "stdout",
     "output_type": "stream",
     "text": [
      "<class 'str'>\n",
      "<class 'int'>\n",
      "Hello, World\n",
      "<class 'float'>\n"
     ]
    }
   ],
   "source": [
    "print(type(\"Hello, World!\"))\n",
    "print(type(17))\n",
    "print(\"Hello, World\")\n",
    "print(type(3.2))"
   ]
  },
  {
   "cell_type": "markdown",
   "metadata": {},
   "source": [
    "А как насчет таких значений, как '17' и '3,2'? Они выглядят как числа, но они заключены в кавычки, как строки. Доверимся машине:"
   ]
  },
  {
   "cell_type": "code",
   "execution_count": 16,
   "metadata": {},
   "outputs": [
    {
     "name": "stdout",
     "output_type": "stream",
     "text": [
      "<class 'str'>\n",
      "<class 'str'>\n"
     ]
    }
   ],
   "source": [
    "print(type(\"17\"))\n",
    "print(type(\"3.2\"))"
   ]
  },
  {
   "cell_type": "markdown",
   "metadata": {},
   "source": [
    "Это строки!\n",
    "\n",
    "Строки в Python могут быть заключены либо в одинарные кавычки ('), либо в двойные кавычки (\"), или даже в три (''' или \"\"\")"
   ]
  },
  {
   "cell_type": "code",
   "execution_count": 18,
   "metadata": {},
   "outputs": [
    {
     "name": "stdout",
     "output_type": "stream",
     "text": [
      "<class 'str'>\n",
      "<class 'str'>\n",
      "<class 'str'>\n",
      "<class 'str'>\n"
     ]
    }
   ],
   "source": [
    "print(type('This is a string.'))\n",
    "print(type(\"And so is this.\"))\n",
    "print(type(\"\"\"and this.\"\"\"))\n",
    "print(type('''and even this...'''))"
   ]
  },
  {
   "cell_type": "markdown",
   "metadata": {},
   "source": [
    "Строки с двойными кавычками могут содержать одинарные кавычки внутри них, а строки с одинарными кавычками могут содержать двойные кавычки:\n"
   ]
  },
  {
   "cell_type": "code",
   "execution_count": 20,
   "metadata": {},
   "outputs": [
    {
     "name": "stdout",
     "output_type": "stream",
     "text": [
      "\"Oh no\", she exclaimed, \"Ben's bike is broken!\"\n"
     ]
    }
   ],
   "source": [
    "print('''\"Oh no\", she exclaimed, \"Ben's bike is broken!\"''')"
   ]
  },
  {
   "cell_type": "markdown",
   "metadata": {},
   "source": [
    "Строки в тройных кавычках могут даже занимать несколько строк:"
   ]
  },
  {
   "cell_type": "code",
   "execution_count": 22,
   "metadata": {},
   "outputs": [
    {
     "name": "stdout",
     "output_type": "stream",
     "text": [
      "This message will span\n",
      "several lines\n",
      "of the text.\n"
     ]
    }
   ],
   "source": [
    "print(\"\"\"This message will span\n",
    "several lines\n",
    "of the text.\"\"\")"
   ]
  },
  {
   "cell_type": "markdown",
   "metadata": {},
   "source": [
    "Python не заботится о том, используете ли вы одинарные, или двойные кавычки, или тройные кавычки, чтобы вывести строку. После того, как он проанализировал текст вашей программы или команды, способ сохранения значения во всех случаях идентичен, и окружающие кавычки не являются частью значения.\n"
   ]
  },
  {
   "cell_type": "code",
   "execution_count": 24,
   "metadata": {},
   "outputs": [
    {
     "name": "stdout",
     "output_type": "stream",
     "text": [
      "This is a string.\n",
      "And so is this.\n"
     ]
    }
   ],
   "source": [
    "print('This is a string.')\n",
    "print(\"\"\"And so is this.\"\"\")"
   ]
  },
  {
   "cell_type": "markdown",
   "metadata": {},
   "source": [
    "Поэтому те, кто пишет на Python, обычно предпочитают заключать свои строки в одинарные кавычки. \n",
    "\n",
    "Как вы думаете, что произойдет, если строка уже содержит одинарные кавычки?\n",
    "\n",
    "Когда вы вводите большое целое число, у вас может возникнуть желание использовать запятые между группами из трех цифр, как в 42 000. Это неправильное целое число в Python, но оно означает что-то еще, что допустимо:"
   ]
  },
  {
   "cell_type": "code",
   "execution_count": 26,
   "metadata": {},
   "outputs": [
    {
     "name": "stdout",
     "output_type": "stream",
     "text": [
      "42500\n",
      "42 500\n"
     ]
    }
   ],
   "source": [
    "print(42500)\n",
    "print(42,500)\n"
   ]
  },
  {
   "cell_type": "markdown",
   "metadata": {},
   "source": [
    "Ну, это совсем не то, что мы ожидали! \n",
    "\n",
    "Из-за запятой Python решил рассматривать это как пару значений. Фактически, оператор 'print' может печатать любое количество значений, если вы разделяете их запятыми. Обратите внимание, что значения разделяются пробелами при их отображении:"
   ]
  },
  {
   "cell_type": "code",
   "execution_count": 28,
   "metadata": {},
   "outputs": [
    {
     "name": "stdout",
     "output_type": "stream",
     "text": [
      "42 17 56 34 11 4.35 32\n",
      "3.4 hello 45\n"
     ]
    }
   ],
   "source": [
    "print(42, 17, 56, 34, 11, 4.35, 32)\n",
    "print(3.4, \"hello\", 45)"
   ]
  },
  {
   "cell_type": "markdown",
   "metadata": {},
   "source": [
    "Так что, не забывайте не ставить запятые или пробелы в ваших целых числах, независимо от того, насколько они велики."
   ]
  },
  {
   "cell_type": "code",
   "execution_count": 30,
   "metadata": {},
   "outputs": [
    {
     "name": "stdout",
     "output_type": "stream",
     "text": [
      "It is never late to learn. See you soon! Your Sasha\n"
     ]
    }
   ],
   "source": [
    "def see_you_soon(flag=False):\n",
    "    if (flag):\n",
    "        print('It is never late to learn. See you soon! Your Sasha')\n",
    "    else:\n",
    "        print('Turn the flag True!')\n",
    "              \n",
    "see_you_soon(flag=True)   "
   ]
  },
  {
   "cell_type": "code",
   "execution_count": null,
   "metadata": {},
   "outputs": [],
   "source": []
  }
 ],
 "metadata": {
  "kernelspec": {
   "display_name": "Python 3",
   "language": "python",
   "name": "python3"
  },
  "language_info": {
   "codemirror_mode": {
    "name": "ipython",
    "version": 3
   },
   "file_extension": ".py",
   "mimetype": "text/x-python",
   "name": "python",
   "nbconvert_exporter": "python",
   "pygments_lexer": "ipython3",
   "version": "3.7.4"
  }
 },
 "nbformat": 4,
 "nbformat_minor": 2
}
